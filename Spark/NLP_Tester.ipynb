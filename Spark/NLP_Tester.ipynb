{
  "nbformat": 4,
  "nbformat_minor": 0,
  "metadata": {
    "colab": {
      "name": "NLP_Tester.ipynb",
      "provenance": [],
      "collapsed_sections": [
        "9mOc8-9FXfJX"
      ]
    },
    "kernelspec": {
      "name": "python3",
      "display_name": "Python 3"
    },
    "language_info": {
      "name": "python"
    }
  },
  "cells": [
    {
      "cell_type": "code",
      "execution_count": 1,
      "metadata": {
        "id": "3KIOB7w79Eur",
        "colab": {
          "base_uri": "https://localhost:8080/"
        },
        "outputId": "95473ea0-f5de-4121-a2ce-8e7190ec9033"
      },
      "outputs": [
        {
          "output_type": "stream",
          "name": "stdout",
          "text": [
            "Mounted at /content/drive\n"
          ]
        }
      ],
      "source": [
        "from google.colab import drive\n",
        "drive.mount('/content/drive')"
      ]
    },
    {
      "cell_type": "code",
      "source": [
        "!pip install pyspark"
      ],
      "metadata": {
        "colab": {
          "base_uri": "https://localhost:8080/"
        },
        "id": "UFflrDIN9PLs",
        "outputId": "189282e6-350e-4454-ca04-d0980cf59b9a"
      },
      "execution_count": 2,
      "outputs": [
        {
          "output_type": "stream",
          "name": "stdout",
          "text": [
            "Looking in indexes: https://pypi.org/simple, https://us-python.pkg.dev/colab-wheels/public/simple/\n",
            "Collecting pyspark\n",
            "  Downloading pyspark-3.3.0.tar.gz (281.3 MB)\n",
            "\u001b[K     |████████████████████████████████| 281.3 MB 42 kB/s \n",
            "\u001b[?25hCollecting py4j==0.10.9.5\n",
            "  Downloading py4j-0.10.9.5-py2.py3-none-any.whl (199 kB)\n",
            "\u001b[K     |████████████████████████████████| 199 kB 54.0 MB/s \n",
            "\u001b[?25hBuilding wheels for collected packages: pyspark\n",
            "  Building wheel for pyspark (setup.py) ... \u001b[?25l\u001b[?25hdone\n",
            "  Created wheel for pyspark: filename=pyspark-3.3.0-py2.py3-none-any.whl size=281764026 sha256=86446e89fbe7781f83fe8be333848a9bca29dc41ad6ded797ad999c670c115b2\n",
            "  Stored in directory: /root/.cache/pip/wheels/7a/8e/1b/f73a52650d2e5f337708d9f6a1750d451a7349a867f928b885\n",
            "Successfully built pyspark\n",
            "Installing collected packages: py4j, pyspark\n",
            "Successfully installed py4j-0.10.9.5 pyspark-3.3.0\n"
          ]
        }
      ]
    },
    {
      "cell_type": "code",
      "source": [
        "!pip install --upgrade tweepy"
      ],
      "metadata": {
        "colab": {
          "base_uri": "https://localhost:8080/"
        },
        "id": "oxLq95f3Xtdg",
        "outputId": "5ee8ec9f-c421-4886-cb2d-9c6579532dff"
      },
      "execution_count": 3,
      "outputs": [
        {
          "output_type": "stream",
          "name": "stdout",
          "text": [
            "Looking in indexes: https://pypi.org/simple, https://us-python.pkg.dev/colab-wheels/public/simple/\n",
            "Requirement already satisfied: tweepy in /usr/local/lib/python3.7/dist-packages (3.10.0)\n",
            "Collecting tweepy\n",
            "  Downloading tweepy-4.10.0-py3-none-any.whl (94 kB)\n",
            "\u001b[K     |████████████████████████████████| 94 kB 2.1 MB/s \n",
            "\u001b[?25hCollecting requests<3,>=2.27.0\n",
            "  Downloading requests-2.28.1-py3-none-any.whl (62 kB)\n",
            "\u001b[K     |████████████████████████████████| 62 kB 1.3 MB/s \n",
            "\u001b[?25hRequirement already satisfied: oauthlib<4,>=3.2.0 in /usr/local/lib/python3.7/dist-packages (from tweepy) (3.2.0)\n",
            "Requirement already satisfied: requests-oauthlib<2,>=1.2.0 in /usr/local/lib/python3.7/dist-packages (from tweepy) (1.3.1)\n",
            "Requirement already satisfied: idna<4,>=2.5 in /usr/local/lib/python3.7/dist-packages (from requests<3,>=2.27.0->tweepy) (2.10)\n",
            "Requirement already satisfied: charset-normalizer<3,>=2 in /usr/local/lib/python3.7/dist-packages (from requests<3,>=2.27.0->tweepy) (2.1.0)\n",
            "Requirement already satisfied: certifi>=2017.4.17 in /usr/local/lib/python3.7/dist-packages (from requests<3,>=2.27.0->tweepy) (2022.6.15)\n",
            "Requirement already satisfied: urllib3<1.27,>=1.21.1 in /usr/local/lib/python3.7/dist-packages (from requests<3,>=2.27.0->tweepy) (1.24.3)\n",
            "Installing collected packages: requests, tweepy\n",
            "  Attempting uninstall: requests\n",
            "    Found existing installation: requests 2.23.0\n",
            "    Uninstalling requests-2.23.0:\n",
            "      Successfully uninstalled requests-2.23.0\n",
            "  Attempting uninstall: tweepy\n",
            "    Found existing installation: tweepy 3.10.0\n",
            "    Uninstalling tweepy-3.10.0:\n",
            "      Successfully uninstalled tweepy-3.10.0\n",
            "Successfully installed requests-2.28.1 tweepy-4.10.0\n"
          ]
        }
      ]
    },
    {
      "cell_type": "code",
      "source": [
        "import pandas as pd\n",
        "from pyspark.sql import SparkSession\n",
        "from pyspark import StorageLevel\n",
        "from pyspark.sql import functions as f\n",
        "from pyspark.ml.pipeline import PipelineModel\n",
        "import matplotlib.pyplot as plt\n",
        "import tweepy\n",
        "import time\n",
        "\n",
        "spark = (\n",
        "    SparkSession.builder.appName(\"ModelTraining\")\n",
        "    .config(\"spark.executor.memory\", \"12g\")\n",
        "    .getOrCreate()\n",
        ")\n",
        "\n",
        "\n",
        "IN_PATH = \"/content/drive/MyDrive/sentiment-140-training-data/CLEAN\"\n",
        "MODEL_PATH = \"/content/drive/MyDrive/sentiment-140-training-data/MODEL\"+\"NEW_MODEL\"\n",
        "\n",
        "\n",
        "\n",
        "persistedModel = PipelineModel.load(MODEL_PATH)"
      ],
      "metadata": {
        "id": "wbj6XD889Qqj"
      },
      "execution_count": 21,
      "outputs": []
    },
    {
      "cell_type": "markdown",
      "source": [
        "## Twitter Keys"
      ],
      "metadata": {
        "id": "9mOc8-9FXfJX"
      }
    },
    {
      "cell_type": "code",
      "source": [
        "api_key = \"pjSDnoMqi2hPdne0doMHNVNwH\"\n",
        "api_key_secret = \"o0PxnUxnSDlSayiF4wv8Am5FQuOSnw6WubK12JLsC80M9ltvxy\"\n",
        "bearer_token = \"AAAAAAAAAAAAAAAAAAAAAC5acwEAAAAAVWaHDyVqT9DeGsZQG19iEm3aP0M%3DHJScN5UxBsgzKhVPIa6F4rDiiiZ5jBNecMlaqgKsYzHCVeZbgl\"\n",
        "access_token = \"1476781657373831168-78rZJYrF3KxZYbGWYNJDGwyVCxEj0i\"\n",
        "access_token_secret = \"DdLXxYkHcLrO5ZsmAXgcgxEgaRTPk63axc6aZAC1KLZnD\"\n",
        "bearer_token = 'AAAAAAAAAAAAAAAAAAAAAC5acwEAAAAAVWaHDyVqT9DeGsZQG19iEm3aP0M%3DHJScN5UxBsgzKhVPIa6F4rDiiiZ5jBNecMlaqgKsYzHCVeZbgl'"
      ],
      "metadata": {
        "id": "5DuiWu02XiGy"
      },
      "execution_count": 22,
      "outputs": []
    },
    {
      "cell_type": "markdown",
      "source": [
        "## Making Predictions"
      ],
      "metadata": {
        "id": "sALdrDLiXnGf"
      }
    },
    {
      "cell_type": "code",
      "source": [
        "user_regex = r\"(@\\w{1,15})\"\n",
        "hashtag_regex = \"#\\S+\"\n",
        "url_regex=r\"((https?|ftp|file):\\/{2,3})+([-\\w+&@#/%=~|$?!:,.]*)|(www\\.)+([-\\w+&@#/%=~|$?!:,.]*)\"\n",
        "email_regex=r\"[\\w.-]+@[\\w.-]+\\.[a-zA-Z]{1,}\"\n",
        "dot_regex =r\"\\.{2,}\"\n",
        "repeated_char_regex = r\"(.)\\1{2,}\"\n",
        "number_regex = r\"[^a-zA-Z'\\s]\"\n",
        "multiple_space_regex = r\"\\s{2,}\"\n",
        "and_regex = r\"(&.+?)\\s\"\n",
        "jump_regex = r\"\\n\"\n",
        "vs_regex = r\"#.+vs\\S+\"\n",
        "and_regex = r\"&amp\"\n",
        "\n",
        "regex_list = ([\n",
        "    and_regex,\n",
        "    user_regex,\n",
        "    hashtag_regex,\n",
        "    url_regex,\n",
        "    email_regex,\n",
        "    dot_regex,\n",
        "    repeated_char_regex,\n",
        "    number_regex,\n",
        "    multiple_space_regex,\n",
        "    and_regex,\n",
        "    jump_regex,\n",
        "    vs_regex,\n",
        "    \n",
        "])"
      ],
      "metadata": {
        "id": "8ffsIm1HYBWx"
      },
      "execution_count": 23,
      "outputs": []
    },
    {
      "cell_type": "code",
      "source": [
        "client = tweepy.Client(bearer_token=bearer_token)\n",
        "\n",
        "# Get tweets that contain the hashtag #petday\n",
        "# -is:retweet means I don't wantretweets\n",
        "# lang:en is asking for the tweets to be in english\n",
        "\n",
        "query = '#russia -is:retweet lang:en'\n",
        "\n",
        "Twitter_Data = pd.DataFrame(columns=[\"Tweet_Id\",\"Text\"])\n",
        "\n",
        "i=0\n",
        "\n",
        "count = pd.DataFrame([0,0],index=[\"Positive\",\"Negative\"],columns=[\"count\"])\n",
        "\n",
        "while i<1: \n",
        "    \n",
        "    matrix= []\n",
        "    \n",
        "    num_val = 10\n",
        "    \n",
        "    if i == 0:\n",
        "        num_val = 100\n",
        "        \n",
        "    tweets = tweepy.Paginator(client.search_recent_tweets, query=query,\n",
        "                                  tweet_fields=['context_annotations', 'created_at'], \n",
        "                                  max_results=num_val).flatten(limit=num_val)\n",
        "    \n",
        "    \n",
        "\n",
        "    for tweet in tweets:\n",
        "        matrix.append([tweet.id,tweet.text])\n",
        "    \n",
        "    \n",
        "    df = pd.DataFrame(matrix,columns=[\"Tweet_Id\",\"text\"])\n",
        "    df = df.sort_values(by=\"Tweet_Id\")\n",
        "    \n",
        "    existing_index = Twitter_Data.Tweet_Id.values\n",
        "    current_index = df.Tweet_Id.values\n",
        "    \n",
        "    new_data_loc = []\n",
        "    \n",
        "    for k in current_index:\n",
        "        if k not in existing_index:\n",
        "            new_data_loc.append( df[df.Tweet_Id == k].index )\n",
        "            \n",
        "    \n",
        "    loc = [ k[0] for k in new_data_loc ]\n",
        "    \n",
        "    if len(loc)==1 and loc[0]==0:\n",
        "        pass\n",
        "    else:\n",
        "        Twitter_Data = pd.concat([Twitter_Data, df.iloc[loc] ])\n",
        "    \n",
        "    \n",
        "        df_edited = df.iloc[loc].copy()\n",
        "\n",
        "        for k in regex_list:\n",
        "\n",
        "            df_edited[\"text\"] = df_edited[\"text\"].replace(to_replace = k, value = ' ', regex = True)\n",
        "\n",
        "        df_edited[\"text\"] = df_edited[\"text\"].str.lower()\n",
        "\n",
        "        if len(df_edited) == 0:\n",
        "          continue\n",
        "\n",
        "        result = persistedModel.transform( spark.createDataFrame(df_edited) )\n",
        "\n",
        "        for mm in result.select([\"text\",\"prediction\"]).collect():\n",
        "            #print(mm[0])\n",
        "            #print(mm[1])\n",
        "            sent = mm[1]\n",
        "            if sent == 4.0:\n",
        "              count.loc[\"Positive\"] +=1\n",
        "            else:\n",
        "              count.loc[\"Negative\"] +=1\n",
        "        \n",
        "          \n",
        "    time.sleep(10)\n",
        "    \n",
        "    print(\"Refreshing\")\n",
        "    \n",
        "    i = i + 1"
      ],
      "metadata": {
        "colab": {
          "base_uri": "https://localhost:8080/"
        },
        "id": "EVP1W3pcYHSf",
        "outputId": "96da9d00-80bb-46be-81dc-a7786ec7f2f2"
      },
      "execution_count": 24,
      "outputs": [
        {
          "output_type": "stream",
          "name": "stdout",
          "text": [
            "Refreshing\n"
          ]
        }
      ]
    },
    {
      "cell_type": "code",
      "source": [
        "count.plot.barh()\n",
        "plt.show()"
      ],
      "metadata": {
        "colab": {
          "base_uri": "https://localhost:8080/",
          "height": 265
        },
        "id": "kzkKIuiqed73",
        "outputId": "e921f3bd-a636-437f-f684-fd1c9c6b494f"
      },
      "execution_count": 25,
      "outputs": [
        {
          "output_type": "display_data",
          "data": {
            "text/plain": [
              "<Figure size 432x288 with 1 Axes>"
            ],
            "image/png": "[encoded data removed]"
          },
          "metadata": {
            "needs_background": "light"
          }
        }
      ]
    },
    {
      "cell_type": "code",
      "source": [
        "count"
      ],
      "metadata": {
        "colab": {
          "base_uri": "https://localhost:8080/",
          "height": 112
        },
        "id": "4Z69wR5KhNj5",
        "outputId": "dfd8f575-73fd-4484-a1a5-c2013a7dad4b"
      },
      "execution_count": 26,
      "outputs": [
        {
          "output_type": "execute_result",
          "data": {
            "text/plain": [
              "          count\n",
              "Positive     55\n",
              "Negative     45"
            ],
            "text/html": [
              "\n",
              "  <div id=\"df-6a46ed89-d7cc-474c-85a8-04ee128d97a4\">\n",
              "    <div class=\"colab-df-container\">\n",
              "      <div>\n",
              "<style scoped>\n",
              "    .dataframe tbody tr th:only-of-type {\n",
              "        vertical-align: middle;\n",
              "    }\n",
              "\n",
              "    .dataframe tbody tr th {\n",
              "        vertical-align: top;\n",
              "    }\n",
              "\n",
              "    .dataframe thead th {\n",
              "        text-align: right;\n",
              "    }\n",
              "</style>\n",
              "<table border=\"1\" class=\"dataframe\">\n",
              "  <thead>\n",
              "    <tr style=\"text-align: right;\">\n",
              "      <th></th>\n",
              "      <th>count</th>\n",
              "    </tr>\n",
              "  </thead>\n",
              "  <tbody>\n",
              "    <tr>\n",
              "      <th>Positive</th>\n",
              "      <td>55</td>\n",
              "    </tr>\n",
              "    <tr>\n",
              "      <th>Negative</th>\n",
              "      <td>45</td>\n",
              "    </tr>\n",
              "  </tbody>\n",
              "</table>\n",
              "</div>\n",
              "      <button class=\"colab-df-convert\" onclick=\"convertToInteractive('df-6a46ed89-d7cc-474c-85a8-04ee128d97a4')\"\n",
              "              title=\"Convert this dataframe to an interactive table.\"\n",
              "              style=\"display:none;\">\n",
              "        \n",
              "  <svg xmlns=\"http://www.w3.org/2000/svg\" height=\"24px\"viewBox=\"0 0 24 24\"\n",
              "       width=\"24px\">\n",
              "    <path d=\"M0 0h24v24H0V0z\" fill=\"none\"/>\n",
              "    <path d=\"M18.56 5.44l.94 2.06.94-2.06 2.06-.94-2.06-.94-.94-2.06-.94 2.06-2.06.94zm-11 1L8.5 8.5l.94-2.06 2.06-.94-2.06-.94L8.5 2.5l-.94 2.06-2.06.94zm10 10l.94 2.06.94-2.06 2.06-.94-2.06-.94-.94-2.06-.94 2.06-2.06.94z\"/><path d=\"M17.41 7.96l-1.37-1.37c-.4-.4-.92-.59-1.43-.59-.52 0-1.04.2-1.43.59L10.3 9.45l-7.72 7.72c-.78.78-.78 2.05 0 2.83L4 21.41c.39.39.9.59 1.41.59.51 0 1.02-.2 1.41-.59l7.78-7.78 2.81-2.81c.8-.78.8-2.07 0-2.86zM5.41 20L4 18.59l7.72-7.72 1.47 1.35L5.41 20z\"/>\n",
              "  </svg>\n",
              "      </button>\n",
              "      \n",
              "  <style>\n",
              "    .colab-df-container {\n",
              "      display:flex;\n",
              "      flex-wrap:wrap;\n",
              "      gap: 12px;\n",
              "    }\n",
              "\n",
              "    .colab-df-convert {\n",
              "      background-color: #E8F0FE;\n",
              "      border: none;\n",
              "      border-radius: 50%;\n",
              "      cursor: pointer;\n",
              "      display: none;\n",
              "      fill: #1967D2;\n",
              "      height: 32px;\n",
              "      padding: 0 0 0 0;\n",
              "      width: 32px;\n",
              "    }\n",
              "\n",
              "    .colab-df-convert:hover {\n",
              "      background-color: #E2EBFA;\n",
              "      box-shadow: 0px 1px 2px rgba(60, 64, 67, 0.3), 0px 1px 3px 1px rgba(60, 64, 67, 0.15);\n",
              "      fill: #174EA6;\n",
              "    }\n",
              "\n",
              "    [theme=dark] .colab-df-convert {\n",
              "      background-color: #3B4455;\n",
              "      fill: #D2E3FC;\n",
              "    }\n",
              "\n",
              "    [theme=dark] .colab-df-convert:hover {\n",
              "      background-color: #434B5C;\n",
              "      box-shadow: 0px 1px 3px 1px rgba(0, 0, 0, 0.15);\n",
              "      filter: drop-shadow(0px 1px 2px rgba(0, 0, 0, 0.3));\n",
              "      fill: #FFFFFF;\n",
              "    }\n",
              "  </style>\n",
              "\n",
              "      <script>\n",
              "        const buttonEl =\n",
              "          document.querySelector('#df-6a46ed89-d7cc-474c-85a8-04ee128d97a4 button.colab-df-convert');\n",
              "        buttonEl.style.display =\n",
              "          google.colab.kernel.accessAllowed ? 'block' : 'none';\n",
              "\n",
              "        async function convertToInteractive(key) {\n",
              "          const element = document.querySelector('#df-6a46ed89-d7cc-474c-85a8-04ee128d97a4');\n",
              "          const dataTable =\n",
              "            await google.colab.kernel.invokeFunction('convertToInteractive',\n",
              "                                                     [key], {});\n",
              "          if (!dataTable) return;\n",
              "\n",
              "          const docLinkHtml = 'Like what you see? Visit the ' +\n",
              "            '<a target=\"_blank\" href=https://colab.research.google.com/notebooks/data_table.ipynb>data table notebook</a>'\n",
              "            + ' to learn more about interactive tables.';\n",
              "          element.innerHTML = '';\n",
              "          dataTable['output_type'] = 'display_data';\n",
              "          await google.colab.output.renderOutput(dataTable, element);\n",
              "          const docLink = document.createElement('div');\n",
              "          docLink.innerHTML = docLinkHtml;\n",
              "          element.appendChild(docLink);\n",
              "        }\n",
              "      </script>\n",
              "    </div>\n",
              "  </div>\n",
              "  "
            ]
          },
          "metadata": {},
          "execution_count": 26
        }
      ]
    },
    {
      "cell_type": "code",
      "source": [
        "result.select(\"text\").show(truncate=False)"
      ],
      "metadata": {
        "colab": {
          "base_uri": "https://localhost:8080/"
        },
        "id": "LWqFqU77ZVmy",
        "outputId": "c7297128-2fd4-47f1-bfd1-1058d42664bc"
      },
      "execution_count": 27,
      "outputs": [
        {
          "output_type": "stream",
          "name": "stdout",
          "text": [
            "+---------------------------------------------------------------------------------------------------------------------------------------------------------------------------------------------------------------------------------------------------------------+\n",
            "|text                                                                                                                                                                                                                                                           |\n",
            "+---------------------------------------------------------------------------------------------------------------------------------------------------------------------------------------------------------------------------------------------------------------+\n",
            "|foreign firms concerned about operating in taiwan amid chinese military activity                                                                                                                                                                               |\n",
            "|until march all seeing eyes                                                                                                                                                                                                                                    |\n",
            "| and will hold joint military exercises within the framework of the csto                                                                                                                                                                                       |\n",
            "|putin offers pkr million to women to have or more kids to repopulate russia read more to the link below                                                                                                                                                        |\n",
            "|the fallout from russia's invasion of ukraine is still making waves in the shipping market                                                                                                                                                                     |\n",
            "|latest update has used indiscriminate fire from its foothold in kharkiv oblast to inflict civilian casualties in second city which is about miles from the front the russian presence is relatively light intended to pin down ukrainian troops                |\n",
            "|and again nothing unusual the ukrainian army your ancestors died from people like them now you are on the side of the nazis well done                                                                                                                          |\n",
            "| hahah held accountable by who maybe by                                                                                                                                                                                                                        |\n",
            "| reports a net loss after tax of million for the first half of the lessor said it wrote down around million for jets stranded in                                                                                                                               |\n",
            "| igbo proverbs jisoo lisa airside carpet game day good friday tink                                                                                                                                                                                             |\n",
            "|no this winter and now nuclear winter                                                                                                                                                                                                                          |\n",
            "|russian military surveillance facility on the territory of taken down some claim it s the work of special services others says loitering munitions were used                                                                                                   |\n",
            "| europe finds itself caught between continuing to do business with and ensuring its energy security write and of for                                                                                                                                           |\n",
            "|the arrival of the president of kasim tokayev in the city of before his meeting with russian president vladimir tomorrow                                                                                                                                       |\n",
            "|eu countries most affected by high are estonia latvia and lithuania which have had to replace sanctioned trading goods from neighbouring with eu or overseas imports                                                                                           |\n",
            "| russian crude output has held up better than expected which has meant that the oil market is not as tight as originally thought weaker demand means the oil balance is looking more comfortable for the remainder of the year                                 |\n",
            "|until march all seeing eyes                                                                                                                                                                                                                                    |\n",
            "| to make formal proposal to european commission to introduce th package of sanctions against tallinn the package will reportedly propose travel restrictions on russian citizens to the eu and include expanded sanctions in the economic energy trade sectors |\n",
            "|great insight from invasion of broke everything and the west was weak and unaware it's all about ethnic narcissism                                                                                                                                             |\n",
            "| talks fail to quell standoff via                                                                                                                                                                                                                              |\n",
            "+---------------------------------------------------------------------------------------------------------------------------------------------------------------------------------------------------------------------------------------------------------------+\n",
            "only showing top 20 rows\n",
            "\n"
          ]
        }
      ]
    },
    {
      "cell_type": "code",
      "source": [
        "spark.stop()"
      ],
      "metadata": {
        "id": "7M4zs8M1Z_xH"
      },
      "execution_count": 28,
      "outputs": []
    },
    {
      "cell_type": "code",
      "source": [
        ""
      ],
      "metadata": {
        "id": "JE81Zq8q-OTK"
      },
      "execution_count": 28,
      "outputs": []
    }
  ]
}